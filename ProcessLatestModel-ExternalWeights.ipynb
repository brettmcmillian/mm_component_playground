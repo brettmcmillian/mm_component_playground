{
 "cells": [
  {
   "cell_type": "code",
   "execution_count": 1,
   "id": "tough-missouri",
   "metadata": {},
   "outputs": [],
   "source": [
    "import numpy as np\n",
    "import pandas as pd\n",
    "%matplotlib inline"
   ]
  },
  {
   "cell_type": "code",
   "execution_count": 2,
   "id": "mounted-aging",
   "metadata": {},
   "outputs": [],
   "source": [
    "# Do this just once since it's long. Can use the local file afterwards\n",
    "\n",
    "#!wget 'https://zenodo.org/record/4088982/files/data%20release.csv'"
   ]
  },
  {
   "cell_type": "code",
   "execution_count": 3,
   "id": "frequent-bulgarian",
   "metadata": {},
   "outputs": [
    {
     "data": {
      "text/html": [
       "<div>\n",
       "<style scoped>\n",
       "    .dataframe tbody tr th:only-of-type {\n",
       "        vertical-align: middle;\n",
       "    }\n",
       "\n",
       "    .dataframe tbody tr th {\n",
       "        vertical-align: top;\n",
       "    }\n",
       "\n",
       "    .dataframe thead th {\n",
       "        text-align: right;\n",
       "    }\n",
       "</style>\n",
       "<table border=\"1\" class=\"dataframe\">\n",
       "  <thead>\n",
       "    <tr style=\"text-align: right;\">\n",
       "      <th></th>\n",
       "      <th>time</th>\n",
       "      <th>file</th>\n",
       "      <th>B:ACMNIG</th>\n",
       "      <th>B:ACMNPG</th>\n",
       "      <th>B:ACMXIG</th>\n",
       "      <th>B:ACMXPG</th>\n",
       "      <th>B:DCIG</th>\n",
       "      <th>B:DCPG</th>\n",
       "      <th>B:GMPS4V</th>\n",
       "      <th>B:GMPSBT</th>\n",
       "      <th>...</th>\n",
       "      <th>B_IMINXG</th>\n",
       "      <th>B_IMINXO</th>\n",
       "      <th>B_IPHSTC</th>\n",
       "      <th>B_VIMAX</th>\n",
       "      <th>B_VIMIN</th>\n",
       "      <th>B_VINHBT</th>\n",
       "      <th>B_VIPHAS</th>\n",
       "      <th>I:IB</th>\n",
       "      <th>I:MDAT40</th>\n",
       "      <th>I:MXIB</th>\n",
       "    </tr>\n",
       "  </thead>\n",
       "  <tbody>\n",
       "    <tr>\n",
       "      <th>0</th>\n",
       "      <td>2020-03-10T05:00:00.081Z</td>\n",
       "      <td>MLParamData_1583906408.4261804_From_MLrn_2020-...</td>\n",
       "      <td>0.753501</td>\n",
       "      <td>10.000006</td>\n",
       "      <td>0.3</td>\n",
       "      <td>3.0</td>\n",
       "      <td>0.0</td>\n",
       "      <td>0.0</td>\n",
       "      <td>136.134511</td>\n",
       "      <td>0.0003</td>\n",
       "      <td>...</td>\n",
       "      <td>-11.825</td>\n",
       "      <td>0.0</td>\n",
       "      <td>20.0</td>\n",
       "      <td>966.105041</td>\n",
       "      <td>103.393158</td>\n",
       "      <td>1.0</td>\n",
       "      <td>1.81</td>\n",
       "      <td>7055.9375</td>\n",
       "      <td>7033.233614</td>\n",
       "      <td>7033.410645</td>\n",
       "    </tr>\n",
       "    <tr>\n",
       "      <th>1</th>\n",
       "      <td>2020-03-10T05:00:00.148Z</td>\n",
       "      <td>MLParamData_1583906408.4261804_From_MLrn_2020-...</td>\n",
       "      <td>0.753501</td>\n",
       "      <td>10.000006</td>\n",
       "      <td>0.3</td>\n",
       "      <td>3.0</td>\n",
       "      <td>0.0</td>\n",
       "      <td>0.0</td>\n",
       "      <td>123.134498</td>\n",
       "      <td>0.0003</td>\n",
       "      <td>...</td>\n",
       "      <td>-11.825</td>\n",
       "      <td>0.0</td>\n",
       "      <td>20.0</td>\n",
       "      <td>966.105041</td>\n",
       "      <td>103.393158</td>\n",
       "      <td>1.0</td>\n",
       "      <td>1.81</td>\n",
       "      <td>7017.1875</td>\n",
       "      <td>6261.596654</td>\n",
       "      <td>6250.284180</td>\n",
       "    </tr>\n",
       "    <tr>\n",
       "      <th>2</th>\n",
       "      <td>2020-03-10T05:00:00.215Z</td>\n",
       "      <td>MLParamData_1583906408.4261804_From_MLrn_2020-...</td>\n",
       "      <td>0.753501</td>\n",
       "      <td>10.000006</td>\n",
       "      <td>0.3</td>\n",
       "      <td>3.0</td>\n",
       "      <td>0.0</td>\n",
       "      <td>0.0</td>\n",
       "      <td>119.234494</td>\n",
       "      <td>0.0003</td>\n",
       "      <td>...</td>\n",
       "      <td>-11.825</td>\n",
       "      <td>0.0</td>\n",
       "      <td>20.0</td>\n",
       "      <td>966.105041</td>\n",
       "      <td>103.393158</td>\n",
       "      <td>1.0</td>\n",
       "      <td>1.81</td>\n",
       "      <td>6344.6875</td>\n",
       "      <td>5105.590799</td>\n",
       "      <td>5093.851074</td>\n",
       "    </tr>\n",
       "    <tr>\n",
       "      <th>3</th>\n",
       "      <td>2020-03-10T05:00:00.281Z</td>\n",
       "      <td>MLParamData_1583906408.4261804_From_MLrn_2020-...</td>\n",
       "      <td>0.753501</td>\n",
       "      <td>10.000006</td>\n",
       "      <td>0.3</td>\n",
       "      <td>3.0</td>\n",
       "      <td>0.0</td>\n",
       "      <td>0.0</td>\n",
       "      <td>142.959518</td>\n",
       "      <td>0.0003</td>\n",
       "      <td>...</td>\n",
       "      <td>-11.825</td>\n",
       "      <td>0.0</td>\n",
       "      <td>20.0</td>\n",
       "      <td>966.105041</td>\n",
       "      <td>103.393158</td>\n",
       "      <td>1.0</td>\n",
       "      <td>1.81</td>\n",
       "      <td>5192.1875</td>\n",
       "      <td>3989.562972</td>\n",
       "      <td>3978.289795</td>\n",
       "    </tr>\n",
       "    <tr>\n",
       "      <th>4</th>\n",
       "      <td>2020-03-10T05:00:00.348Z</td>\n",
       "      <td>MLParamData_1583906408.4261804_From_MLrn_2020-...</td>\n",
       "      <td>0.753501</td>\n",
       "      <td>10.000006</td>\n",
       "      <td>0.3</td>\n",
       "      <td>3.0</td>\n",
       "      <td>0.0</td>\n",
       "      <td>0.0</td>\n",
       "      <td>133.534509</td>\n",
       "      <td>0.0003</td>\n",
       "      <td>...</td>\n",
       "      <td>-11.825</td>\n",
       "      <td>0.0</td>\n",
       "      <td>20.0</td>\n",
       "      <td>966.105041</td>\n",
       "      <td>103.393158</td>\n",
       "      <td>1.0</td>\n",
       "      <td>1.81</td>\n",
       "      <td>4064.6875</td>\n",
       "      <td>2907.409656</td>\n",
       "      <td>2896.432617</td>\n",
       "    </tr>\n",
       "    <tr>\n",
       "      <th>...</th>\n",
       "      <td>...</td>\n",
       "      <td>...</td>\n",
       "      <td>...</td>\n",
       "      <td>...</td>\n",
       "      <td>...</td>\n",
       "      <td>...</td>\n",
       "      <td>...</td>\n",
       "      <td>...</td>\n",
       "      <td>...</td>\n",
       "      <td>...</td>\n",
       "      <td>...</td>\n",
       "      <td>...</td>\n",
       "      <td>...</td>\n",
       "      <td>...</td>\n",
       "      <td>...</td>\n",
       "      <td>...</td>\n",
       "      <td>...</td>\n",
       "      <td>...</td>\n",
       "      <td>...</td>\n",
       "      <td>...</td>\n",
       "      <td>...</td>\n",
       "    </tr>\n",
       "    <tr>\n",
       "      <th>1295708</th>\n",
       "      <td>2020-03-11T04:59:59.703Z</td>\n",
       "      <td>MLParamData_1583906408.4261804_From_MLrn_2020-...</td>\n",
       "      <td>0.753501</td>\n",
       "      <td>10.000006</td>\n",
       "      <td>0.3</td>\n",
       "      <td>3.0</td>\n",
       "      <td>0.0</td>\n",
       "      <td>0.0</td>\n",
       "      <td>105.259480</td>\n",
       "      <td>0.0003</td>\n",
       "      <td>...</td>\n",
       "      <td>-11.825</td>\n",
       "      <td>0.0</td>\n",
       "      <td>20.0</td>\n",
       "      <td>966.085022</td>\n",
       "      <td>103.419640</td>\n",
       "      <td>1.0</td>\n",
       "      <td>1.81</td>\n",
       "      <td>4063.4375</td>\n",
       "      <td>2907.409656</td>\n",
       "      <td>2896.377441</td>\n",
       "    </tr>\n",
       "    <tr>\n",
       "      <th>1295709</th>\n",
       "      <td>2020-03-11T04:59:59.770Z</td>\n",
       "      <td>MLParamData_1583906408.4261804_From_MLrn_2020-...</td>\n",
       "      <td>0.753501</td>\n",
       "      <td>10.000006</td>\n",
       "      <td>0.3</td>\n",
       "      <td>3.0</td>\n",
       "      <td>0.0</td>\n",
       "      <td>0.0</td>\n",
       "      <td>103.959479</td>\n",
       "      <td>0.0003</td>\n",
       "      <td>...</td>\n",
       "      <td>-11.825</td>\n",
       "      <td>0.0</td>\n",
       "      <td>20.0</td>\n",
       "      <td>966.085022</td>\n",
       "      <td>103.419640</td>\n",
       "      <td>1.0</td>\n",
       "      <td>1.81</td>\n",
       "      <td>2977.1875</td>\n",
       "      <td>1855.773918</td>\n",
       "      <td>1845.101929</td>\n",
       "    </tr>\n",
       "    <tr>\n",
       "      <th>1295710</th>\n",
       "      <td>2020-03-11T04:59:59.837Z</td>\n",
       "      <td>MLParamData_1583906408.4261804_From_MLrn_2020-...</td>\n",
       "      <td>0.753501</td>\n",
       "      <td>10.000006</td>\n",
       "      <td>0.3</td>\n",
       "      <td>3.0</td>\n",
       "      <td>0.0</td>\n",
       "      <td>0.0</td>\n",
       "      <td>92.259467</td>\n",
       "      <td>0.0003</td>\n",
       "      <td>...</td>\n",
       "      <td>-11.825</td>\n",
       "      <td>0.0</td>\n",
       "      <td>20.0</td>\n",
       "      <td>966.085022</td>\n",
       "      <td>103.419640</td>\n",
       "      <td>1.0</td>\n",
       "      <td>1.81</td>\n",
       "      <td>1924.6875</td>\n",
       "      <td>833.740231</td>\n",
       "      <td>823.275757</td>\n",
       "    </tr>\n",
       "    <tr>\n",
       "      <th>1295711</th>\n",
       "      <td>2020-03-11T04:59:59.903Z</td>\n",
       "      <td>MLParamData_1583906408.4261804_From_MLrn_2020-...</td>\n",
       "      <td>0.753501</td>\n",
       "      <td>10.000006</td>\n",
       "      <td>0.3</td>\n",
       "      <td>3.0</td>\n",
       "      <td>0.0</td>\n",
       "      <td>0.0</td>\n",
       "      <td>105.259480</td>\n",
       "      <td>0.0003</td>\n",
       "      <td>...</td>\n",
       "      <td>-11.825</td>\n",
       "      <td>0.0</td>\n",
       "      <td>20.0</td>\n",
       "      <td>966.085022</td>\n",
       "      <td>103.419640</td>\n",
       "      <td>1.0</td>\n",
       "      <td>1.81</td>\n",
       "      <td>894.6875</td>\n",
       "      <td>369.415282</td>\n",
       "      <td>370.404053</td>\n",
       "    </tr>\n",
       "    <tr>\n",
       "      <th>1295712</th>\n",
       "      <td>2020-03-11T04:59:59.970Z</td>\n",
       "      <td>MLParamData_1583906408.4261804_From_MLrn_2020-...</td>\n",
       "      <td>0.753501</td>\n",
       "      <td>10.000006</td>\n",
       "      <td>0.3</td>\n",
       "      <td>3.0</td>\n",
       "      <td>0.0</td>\n",
       "      <td>0.0</td>\n",
       "      <td>105.259480</td>\n",
       "      <td>0.0003</td>\n",
       "      <td>...</td>\n",
       "      <td>-11.825</td>\n",
       "      <td>0.0</td>\n",
       "      <td>20.0</td>\n",
       "      <td>966.085022</td>\n",
       "      <td>103.419640</td>\n",
       "      <td>1.0</td>\n",
       "      <td>1.81</td>\n",
       "      <td>367.1875</td>\n",
       "      <td>502.166746</td>\n",
       "      <td>502.441406</td>\n",
       "    </tr>\n",
       "  </tbody>\n",
       "</table>\n",
       "<p>1295713 rows × 45 columns</p>\n",
       "</div>"
      ],
      "text/plain": [
       "                             time  \\\n",
       "0        2020-03-10T05:00:00.081Z   \n",
       "1        2020-03-10T05:00:00.148Z   \n",
       "2        2020-03-10T05:00:00.215Z   \n",
       "3        2020-03-10T05:00:00.281Z   \n",
       "4        2020-03-10T05:00:00.348Z   \n",
       "...                           ...   \n",
       "1295708  2020-03-11T04:59:59.703Z   \n",
       "1295709  2020-03-11T04:59:59.770Z   \n",
       "1295710  2020-03-11T04:59:59.837Z   \n",
       "1295711  2020-03-11T04:59:59.903Z   \n",
       "1295712  2020-03-11T04:59:59.970Z   \n",
       "\n",
       "                                                      file  B:ACMNIG  \\\n",
       "0        MLParamData_1583906408.4261804_From_MLrn_2020-...  0.753501   \n",
       "1        MLParamData_1583906408.4261804_From_MLrn_2020-...  0.753501   \n",
       "2        MLParamData_1583906408.4261804_From_MLrn_2020-...  0.753501   \n",
       "3        MLParamData_1583906408.4261804_From_MLrn_2020-...  0.753501   \n",
       "4        MLParamData_1583906408.4261804_From_MLrn_2020-...  0.753501   \n",
       "...                                                    ...       ...   \n",
       "1295708  MLParamData_1583906408.4261804_From_MLrn_2020-...  0.753501   \n",
       "1295709  MLParamData_1583906408.4261804_From_MLrn_2020-...  0.753501   \n",
       "1295710  MLParamData_1583906408.4261804_From_MLrn_2020-...  0.753501   \n",
       "1295711  MLParamData_1583906408.4261804_From_MLrn_2020-...  0.753501   \n",
       "1295712  MLParamData_1583906408.4261804_From_MLrn_2020-...  0.753501   \n",
       "\n",
       "          B:ACMNPG  B:ACMXIG  B:ACMXPG  B:DCIG  B:DCPG    B:GMPS4V  B:GMPSBT  \\\n",
       "0        10.000006       0.3       3.0     0.0     0.0  136.134511    0.0003   \n",
       "1        10.000006       0.3       3.0     0.0     0.0  123.134498    0.0003   \n",
       "2        10.000006       0.3       3.0     0.0     0.0  119.234494    0.0003   \n",
       "3        10.000006       0.3       3.0     0.0     0.0  142.959518    0.0003   \n",
       "4        10.000006       0.3       3.0     0.0     0.0  133.534509    0.0003   \n",
       "...            ...       ...       ...     ...     ...         ...       ...   \n",
       "1295708  10.000006       0.3       3.0     0.0     0.0  105.259480    0.0003   \n",
       "1295709  10.000006       0.3       3.0     0.0     0.0  103.959479    0.0003   \n",
       "1295710  10.000006       0.3       3.0     0.0     0.0   92.259467    0.0003   \n",
       "1295711  10.000006       0.3       3.0     0.0     0.0  105.259480    0.0003   \n",
       "1295712  10.000006       0.3       3.0     0.0     0.0  105.259480    0.0003   \n",
       "\n",
       "         ...  B_IMINXG  B_IMINXO  B_IPHSTC     B_VIMAX     B_VIMIN  B_VINHBT  \\\n",
       "0        ...   -11.825       0.0      20.0  966.105041  103.393158       1.0   \n",
       "1        ...   -11.825       0.0      20.0  966.105041  103.393158       1.0   \n",
       "2        ...   -11.825       0.0      20.0  966.105041  103.393158       1.0   \n",
       "3        ...   -11.825       0.0      20.0  966.105041  103.393158       1.0   \n",
       "4        ...   -11.825       0.0      20.0  966.105041  103.393158       1.0   \n",
       "...      ...       ...       ...       ...         ...         ...       ...   \n",
       "1295708  ...   -11.825       0.0      20.0  966.085022  103.419640       1.0   \n",
       "1295709  ...   -11.825       0.0      20.0  966.085022  103.419640       1.0   \n",
       "1295710  ...   -11.825       0.0      20.0  966.085022  103.419640       1.0   \n",
       "1295711  ...   -11.825       0.0      20.0  966.085022  103.419640       1.0   \n",
       "1295712  ...   -11.825       0.0      20.0  966.085022  103.419640       1.0   \n",
       "\n",
       "         B_VIPHAS       I:IB     I:MDAT40       I:MXIB  \n",
       "0            1.81  7055.9375  7033.233614  7033.410645  \n",
       "1            1.81  7017.1875  6261.596654  6250.284180  \n",
       "2            1.81  6344.6875  5105.590799  5093.851074  \n",
       "3            1.81  5192.1875  3989.562972  3978.289795  \n",
       "4            1.81  4064.6875  2907.409656  2896.432617  \n",
       "...           ...        ...          ...          ...  \n",
       "1295708      1.81  4063.4375  2907.409656  2896.377441  \n",
       "1295709      1.81  2977.1875  1855.773918  1845.101929  \n",
       "1295710      1.81  1924.6875   833.740231   823.275757  \n",
       "1295711      1.81   894.6875   369.415282   370.404053  \n",
       "1295712      1.81   367.1875   502.166746   502.441406  \n",
       "\n",
       "[1295713 rows x 45 columns]"
      ]
     },
     "execution_count": 3,
     "metadata": {},
     "output_type": "execute_result"
    }
   ],
   "source": [
    "boostr= pd.read_csv(\"data release.csv\")\n",
    "boostr"
   ]
  },
  {
   "cell_type": "code",
   "execution_count": 4,
   "id": "wound-helicopter",
   "metadata": {},
   "outputs": [],
   "source": [
    "# Need to shift this back because we use the previous time step's value\n",
    "boostr['B:VIMIN'] = boostr['B:VIMIN'].shift(-1)"
   ]
  },
  {
   "cell_type": "code",
   "execution_count": 5,
   "id": "israeli-avenue",
   "metadata": {},
   "outputs": [],
   "source": [
    "X_unscaled = boostr.loc[:249999,['B:VIMIN', 'B:IMINER', 'B_VIMIN', 'B:LINFRQ', 'I:IB', 'I:MDAT40']].to_numpy(copy=True, dtype=np.float32)"
   ]
  },
  {
   "cell_type": "code",
   "execution_count": 6,
   "id": "valid-coach",
   "metadata": {},
   "outputs": [
    {
     "name": "stdout",
     "output_type": "stream",
     "text": [
      "var 0 with median=103.39773, upper_whisker=103.45586, lower_whisker=103.33849\n",
      "var 1 with median=-0.0003125, upper_whisker=0.5196875, lower_whisker=-0.5203125\n",
      "var 2 with median=103.39916, upper_whisker=103.401665, lower_whisker=103.39316\n",
      "var 3 with median=7.433795, upper_whisker=37.331104, lower_whisker=-31.444073\n",
      "var 4 with median=2975.9375, upper_whisker=7060.9375, lower_whisker=345.9375\n",
      "var 5 with median=2907.4097, upper_whisker=7033.386, lower_whisker=369.41528\n"
     ]
    }
   ],
   "source": [
    "# Scale the input values to roughly mean of one, centered at zero. \n",
    "\n",
    "X = np.zeros(X_unscaled.shape)\n",
    "for i in range(X_unscaled.shape[1]):\n",
    "    data = X_unscaled[:,i]\n",
    "    median = np.median(data)\n",
    "    upper_quartile = np.percentile(data, 75)\n",
    "    lower_quartile = np.percentile(data, 25)\n",
    "    iqr = upper_quartile - lower_quartile\n",
    "    lower_whisker = data[data>=lower_quartile-1.5*iqr].min()\n",
    "    upper_whisker = data[data<=upper_quartile+1.5*iqr].max()\n",
    "    ranged = upper_whisker - lower_whisker\n",
    "    print(f\"var {i} with {median=}, {upper_whisker=}, {lower_whisker=}\")\n",
    "    X[:,i] = 1/ranged * (data - median)"
   ]
  },
  {
   "cell_type": "code",
   "execution_count": 7,
   "id": "clear-concern",
   "metadata": {},
   "outputs": [
    {
     "data": {
      "text/plain": [
       "array([[ 1.03421227e+02,  1.34687498e-01,  1.03393158e+02,\n",
       "         2.61179085e+01,  7.05593750e+03,  7.03323340e+03],\n",
       "       [ 1.03425453e+02, -2.70312488e-01,  1.03393158e+02,\n",
       "         2.60633430e+01,  7.01718750e+03,  6.26159668e+03],\n",
       "       [ 1.03420357e+02, -3.05312514e-01,  1.03393158e+02,\n",
       "         2.60087776e+01,  6.34468750e+03,  5.10559082e+03],\n",
       "       [ 1.03412270e+02, -2.60312498e-01,  1.03393158e+02,\n",
       "         2.60815315e+01,  5.19218750e+03,  3.98956299e+03],\n",
       "       [ 1.03403305e+02, -1.85312495e-01,  1.03393158e+02,\n",
       "         2.62088509e+01,  4.06468750e+03,  2.90740967e+03]], dtype=float32)"
      ]
     },
     "execution_count": 7,
     "metadata": {},
     "output_type": "execute_result"
    }
   ],
   "source": [
    "X_unscaled[:5,:]"
   ]
  },
  {
   "cell_type": "code",
   "execution_count": 8,
   "id": "elder-lancaster",
   "metadata": {},
   "outputs": [
    {
     "data": {
      "text/plain": [
       "array([[ 0.20022102,  0.1298077 , -0.70582956,  0.27166942,  0.60759497,\n",
       "         0.61912394],\n",
       "       [ 0.2362348 , -0.25961536, -0.70582956,  0.27087602,  0.60182428,\n",
       "         0.5033316 ],\n",
       "       [ 0.19281024, -0.29326925, -0.70582956,  0.27008262,  0.50167537,\n",
       "         0.32986057],\n",
       "       [ 0.12390301, -0.25      , -0.70582956,  0.27114049,  0.33004469,\n",
       "         0.16238867],\n",
       "       [ 0.04751999, -0.17788461, -0.70582956,  0.27299172,  0.162137  ,\n",
       "         0.        ]])"
      ]
     },
     "execution_count": 8,
     "metadata": {},
     "output_type": "execute_result"
    }
   ],
   "source": [
    "X[:5,:]"
   ]
  },
  {
   "cell_type": "code",
   "execution_count": 9,
   "id": "specialized-married",
   "metadata": {},
   "outputs": [
    {
     "name": "stderr",
     "output_type": "stream",
     "text": [
      "2021-10-19 16:35:51.701228: I tensorflow/core/platform/cpu_feature_guard.cc:142] This TensorFlow binary is optimized with oneAPI Deep Neural Network Library (oneDNN) to use the following CPU instructions in performance-critical operations:  AVX2 FMA\n",
      "To enable them in other operations, rebuild TensorFlow with the appropriate compiler flags.\n"
     ]
    }
   ],
   "source": [
    "from tensorflow import keras\n",
    "\n",
    "MODEL = \"policy_model_e940/policy_model_e940_.modelall.h5\"\n",
    "model = keras.models.load_model(MODEL)\n",
    "\n",
    "#WEIGHTS = \"MLP_model/final_policy_model.weights.h5\"\n",
    "#DESC = \"MLP_model/final_policy_model.json\"\n",
    "\n",
    "#WEIGHTS = \"untrained_model/initialized_weights.h5\"\n",
    "#DESC = \"untrained_model/untrained_model.json\"\n",
    "\n",
    "#with open(DESC) as fl:\n",
    "#    desc = \"\\n\".join(fl.readlines())\n",
    "#model = keras.models.model_from_json(desc)\n",
    "#model.load_weights(WEIGHTS)\n"
   ]
  },
  {
   "cell_type": "code",
   "execution_count": 10,
   "id": "vocational-tiffany",
   "metadata": {},
   "outputs": [
    {
     "name": "stdout",
     "output_type": "stream",
     "text": [
      "Model: \"model_1\"\n",
      "_________________________________________________________________\n",
      "Layer (type)                 Output Shape              Param #   \n",
      "=================================================================\n",
      "input_2 (InputLayer)         [(None, 6)]               0         \n",
      "_________________________________________________________________\n",
      "dense_4 (Dense)              (None, 128)               896       \n",
      "_________________________________________________________________\n",
      "dense_5 (Dense)              (None, 128)               16512     \n",
      "_________________________________________________________________\n",
      "dense_6 (Dense)              (None, 128)               16512     \n",
      "_________________________________________________________________\n",
      "dense_7 (Dense)              (None, 7)                 903       \n",
      "=================================================================\n",
      "Total params: 34,823\n",
      "Trainable params: 34,823\n",
      "Non-trainable params: 0\n",
      "_________________________________________________________________\n"
     ]
    }
   ],
   "source": [
    "model.summary()"
   ]
  },
  {
   "cell_type": "code",
   "execution_count": 11,
   "id": "green-adjustment",
   "metadata": {},
   "outputs": [
    {
     "name": "stderr",
     "output_type": "stream",
     "text": [
      "2021-10-19 16:35:51.848852: I tensorflow/compiler/mlir/mlir_graph_optimization_pass.cc:185] None of the MLIR Optimization Passes are enabled (registered 2)\n"
     ]
    }
   ],
   "source": [
    "Y = model.predict(X)"
   ]
  },
  {
   "cell_type": "code",
   "execution_count": 12,
   "id": "civil-ideal",
   "metadata": {},
   "outputs": [
    {
     "data": {
      "text/plain": [
       "250000"
      ]
     },
     "execution_count": 12,
     "metadata": {},
     "output_type": "execute_result"
    }
   ],
   "source": [
    "len(Y)\n"
   ]
  },
  {
   "cell_type": "code",
   "execution_count": 13,
   "id": "hairy-biology",
   "metadata": {},
   "outputs": [
    {
     "data": {
      "text/plain": [
       "array([[-0.5329083 , -0.68004626, -0.7054163 , -0.58849317, -0.61750364,\n",
       "        -0.49551165, -0.6340498 ],\n",
       "       [-1.2135415 , -1.5318651 , -1.2240001 , -1.284127  , -1.3369267 ,\n",
       "        -1.489888  , -1.3130816 ],\n",
       "       [-1.1527396 , -1.4675287 , -1.1790047 , -1.2274864 , -1.2677    ,\n",
       "        -1.428726  , -1.2455697 ],\n",
       "       [-0.9002469 , -1.1200418 , -0.9792087 , -0.9466856 , -1.0155969 ,\n",
       "        -0.9784032 , -1.0155427 ],\n",
       "       [-0.5888474 , -0.72858685, -0.725708  , -0.625678  , -0.6707119 ,\n",
       "        -0.556134  , -0.6852273 ]], dtype=float32)"
      ]
     },
     "execution_count": 13,
     "metadata": {},
     "output_type": "execute_result"
    }
   ],
   "source": [
    "Y[:5,:]"
   ]
  },
  {
   "cell_type": "code",
   "execution_count": 14,
   "id": "educated-classroom",
   "metadata": {
    "scrolled": true
   },
   "outputs": [
    {
     "name": "stdout",
     "output_type": "stream",
     "text": [
      "Interpreting Model\n",
      "Topology:\n",
      "Layer name: input_2, layer type: Input\n",
      "Layer name: dense_4, layer type: Dense\n",
      "  -> Activation (relu), layer name: dense_4\n",
      "Layer name: dense_5, layer type: Dense\n",
      "  -> Activation (relu), layer name: dense_5\n",
      "Layer name: dense_6, layer type: Dense\n",
      "  -> Activation (relu), layer name: dense_6\n",
      "Layer name: dense_7, layer type: Dense\n",
      "  -> Activation (linear), layer name: dense_7\n",
      "-----------------------------------\n",
      "Configuration\n",
      "{'Model': {'Precision': 'ap_fixed<16,6>', 'ReuseFactor': 1, 'Strategy': 'Latency'}}\n",
      "-----------------------------------\n"
     ]
    }
   ],
   "source": [
    "import hls4ml\n",
    "\n",
    "config = hls4ml.utils.config_from_keras_model(model, granularity='model')\n",
    "print(\"-----------------------------------\")\n",
    "print(\"Configuration\")\n",
    "print(config)\n",
    "print(\"-----------------------------------\")"
   ]
  },
  {
   "cell_type": "code",
   "execution_count": 15,
   "id": "specific-pattern",
   "metadata": {},
   "outputs": [
    {
     "name": "stdout",
     "output_type": "stream",
     "text": [
      "-----------------------------------\n",
      "Configuration\n",
      "{'Model': {'Precision': 'ac_fixed<20,6>', 'ReuseFactor': 128, 'Strategy': 'Latency'}}\n",
      "-----------------------------------\n"
     ]
    }
   ],
   "source": [
    "config[\"Model\"][\"ReuseFactor\"] = 128\n",
    "config[\"Model\"][\"Precision\"] = 'ac_fixed<20,6>'\n",
    "\n",
    "print(\"-----------------------------------\")\n",
    "print(\"Configuration\")\n",
    "print(config)\n",
    "print(\"-----------------------------------\")\n"
   ]
  },
  {
   "cell_type": "code",
   "execution_count": 16,
   "id": "increasing-spare",
   "metadata": {},
   "outputs": [
    {
     "name": "stdout",
     "output_type": "stream",
     "text": [
      "Interpreting Model\n",
      "Topology:\n",
      "Layer name: input_2, layer type: InputLayer, input shapes: [[None, 6]], output shape: [None, 6]\n",
      "Layer name: dense_4, layer type: Dense, input shapes: [[None, 6]], output shape: [None, 128]\n",
      "Layer name: dense_5, layer type: Dense, input shapes: [[None, 128]], output shape: [None, 128]\n",
      "Layer name: dense_6, layer type: Dense, input shapes: [[None, 128]], output shape: [None, 128]\n",
      "Layer name: dense_7, layer type: Dense, input shapes: [[None, 128]], output shape: [None, 7]\n",
      "Creating HLS model\n",
      "WARNING: Invalid ReuseFactor=128 in layer \"dense_4\". Using ReuseFactor=96 instead. Valid ReuseFactor(s): 1,2,3,6,12,24,48,96,192,384,768.\n"
     ]
    }
   ],
   "source": [
    "\n",
    "hls_model = hls4ml.converters.convert_from_keras_model(model, backend=\"Quartus\",\n",
    "                                                       hls_config=config,\n",
    "                                                       output_dir='policy_prj_e940_external',\n",
    "                                                       part='Arria10',\n",
    "                                                       external_weights=True,\n",
    "                                                       project_name='policy')"
   ]
  },
  {
   "cell_type": "code",
   "execution_count": 17,
   "id": "medical-video",
   "metadata": {},
   "outputs": [
    {
     "name": "stdout",
     "output_type": "stream",
     "text": [
      "Writing HLS project\n",
      "Done\n"
     ]
    }
   ],
   "source": [
    "hls_model.compile()"
   ]
  },
  {
   "cell_type": "code",
   "execution_count": 18,
   "id": "naked-illness",
   "metadata": {},
   "outputs": [],
   "source": [
    "hls4ml.utils.plot_model(hls_model, show_shapes=True, show_precision=True)"
   ]
  },
  {
   "cell_type": "code",
   "execution_count": 19,
   "id": "average-audit",
   "metadata": {},
   "outputs": [],
   "source": [
    "Y_hls = hls_model.predict(np.ascontiguousarray(X))"
   ]
  },
  {
   "cell_type": "code",
   "execution_count": 20,
   "id": "conscious-morrison",
   "metadata": {},
   "outputs": [
    {
     "data": {
      "text/plain": [
       "array([[-0.53344727, -0.68066406, -0.70581055, -0.58905029, -0.61816406,\n",
       "        -0.49609375, -0.63464355],\n",
       "       [-1.21337891, -1.53167725, -1.22387695, -1.28399658, -1.33666992,\n",
       "        -1.48974609, -1.31280518],\n",
       "       [-1.15283203, -1.46746826, -1.17907715, -1.22747803, -1.26763916,\n",
       "        -1.42895508, -1.24542236],\n",
       "       [-0.90026855, -1.12005615, -0.97918701, -0.94689941, -1.01556396,\n",
       "        -0.9786377 , -1.01544189],\n",
       "       [-0.58868408, -0.72839355, -0.72558594, -0.62554932, -0.67047119,\n",
       "        -0.5559082 , -0.68499756]])"
      ]
     },
     "execution_count": 20,
     "metadata": {},
     "output_type": "execute_result"
    }
   ],
   "source": [
    "Y_hls[:5,:]"
   ]
  },
  {
   "cell_type": "code",
   "execution_count": 21,
   "id": "marked-example",
   "metadata": {},
   "outputs": [],
   "source": [
    "diff = Y - Y_hls"
   ]
  },
  {
   "cell_type": "code",
   "execution_count": 22,
   "id": "premier-gathering",
   "metadata": {},
   "outputs": [
    {
     "data": {
      "text/plain": [
       "array([[ 5.38945198e-04,  6.17802143e-04,  3.94225121e-04,\n",
       "         5.57124615e-04,  6.60419464e-04,  5.82098961e-04,\n",
       "         5.93781471e-04],\n",
       "       [-1.62601471e-04, -1.87873840e-04, -1.23143196e-04,\n",
       "        -1.30414963e-04, -2.56776810e-04, -1.41859055e-04,\n",
       "        -2.76446342e-04],\n",
       "       [ 9.23871994e-05, -6.04391098e-05,  7.24792480e-05,\n",
       "        -8.34465027e-06, -6.07967377e-05,  2.29120255e-04,\n",
       "        -1.47342682e-04],\n",
       "       [ 2.16364861e-05,  1.43051147e-05, -2.16960907e-05,\n",
       "         2.13801861e-04, -3.29017639e-05,  2.34484673e-04,\n",
       "        -1.00851059e-04],\n",
       "       [-1.63316727e-04, -1.93297863e-04, -1.22070312e-04,\n",
       "        -1.28686428e-04, -2.40683556e-04, -2.25782394e-04,\n",
       "        -2.29716301e-04],\n",
       "       [ 2.84314156e-04,  3.09884548e-04,  2.18242407e-04,\n",
       "         2.88367271e-04,  2.68578529e-04,  3.08275223e-04,\n",
       "         3.09705734e-04],\n",
       "       [ 2.26169825e-04,  1.89244747e-04,  1.89065933e-04,\n",
       "         2.26944685e-04,  2.01821327e-04,  2.87055969e-04,\n",
       "         1.83433294e-04],\n",
       "       [ 2.36988068e-04,  2.83777714e-04,  3.04013491e-04,\n",
       "         2.61694193e-04,  2.69740820e-04,  2.63988972e-04,\n",
       "         3.28809023e-04],\n",
       "       [ 3.61502171e-04,  3.15904617e-04,  2.61425972e-04,\n",
       "         3.20881605e-04,  3.30269337e-04,  2.65032053e-04,\n",
       "         3.17007303e-04],\n",
       "       [ 3.49581242e-04,  2.90751457e-04,  2.41696835e-04,\n",
       "         3.40998173e-04,  3.42577696e-04,  3.59117985e-04,\n",
       "         3.07589769e-04]])"
      ]
     },
     "execution_count": 22,
     "metadata": {},
     "output_type": "execute_result"
    }
   ],
   "source": [
    "diff[:10,:]"
   ]
  },
  {
   "cell_type": "code",
   "execution_count": 23,
   "id": "raising-width",
   "metadata": {},
   "outputs": [],
   "source": [
    "mapping = [0, 0.0001, 0.005, 0.001, -0.0001, -0.005, -0.001]"
   ]
  },
  {
   "cell_type": "code",
   "execution_count": 24,
   "id": "according-swift",
   "metadata": {},
   "outputs": [],
   "source": [
    "Y_mapped = np.argmax(Y, axis=1)"
   ]
  },
  {
   "cell_type": "code",
   "execution_count": 25,
   "id": "permanent-organizer",
   "metadata": {},
   "outputs": [],
   "source": [
    "Y_hls_mapped = np.argmax(Y_hls, axis=1)"
   ]
  },
  {
   "cell_type": "code",
   "execution_count": 26,
   "id": "waiting-bunch",
   "metadata": {},
   "outputs": [],
   "source": [
    "numwrong = np.count_nonzero(Y_mapped - Y_hls_mapped)"
   ]
  },
  {
   "cell_type": "code",
   "execution_count": 27,
   "id": "crude-brush",
   "metadata": {},
   "outputs": [
    {
     "data": {
      "text/plain": [
       "417"
      ]
     },
     "execution_count": 27,
     "metadata": {},
     "output_type": "execute_result"
    }
   ],
   "source": [
    "numwrong"
   ]
  },
  {
   "cell_type": "code",
   "execution_count": 28,
   "id": "personalized-wallpaper",
   "metadata": {},
   "outputs": [
    {
     "data": {
      "text/plain": [
       "0.001668"
      ]
     },
     "execution_count": 28,
     "metadata": {},
     "output_type": "execute_result"
    }
   ],
   "source": [
    "numwrong / len(Y_mapped)"
   ]
  },
  {
   "cell_type": "code",
   "execution_count": 29,
   "id": "written-secretariat",
   "metadata": {},
   "outputs": [
    {
     "ename": "Exception",
     "evalue": "Intel HLS installation not found. Make sure \"i++\" is on PATH.",
     "output_type": "error",
     "traceback": [
      "\u001b[0;31m---------------------------------------------------------------------------\u001b[0m",
      "\u001b[0;31mException\u001b[0m                                 Traceback (most recent call last)",
      "\u001b[0;32m/var/folders/_n/t1yhy5ls4jd6qgyl7xqknqf00000gp/T/ipykernel_84898/2340382613.py\u001b[0m in \u001b[0;36m<module>\u001b[0;34m\u001b[0m\n\u001b[0;32m----> 1\u001b[0;31m \u001b[0mhls_model\u001b[0m\u001b[0;34m.\u001b[0m\u001b[0mbuild\u001b[0m\u001b[0;34m(\u001b[0m\u001b[0;34m)\u001b[0m\u001b[0;34m\u001b[0m\u001b[0;34m\u001b[0m\u001b[0m\n\u001b[0m",
      "\u001b[0;32m~/work/hls4ml/hls4ml/model/hls_model.py\u001b[0m in \u001b[0;36mbuild\u001b[0;34m(self, **kwargs)\u001b[0m\n\u001b[1;32m    755\u001b[0m             \u001b[0mself\u001b[0m\u001b[0;34m.\u001b[0m\u001b[0mwrite\u001b[0m\u001b[0;34m(\u001b[0m\u001b[0;34m)\u001b[0m\u001b[0;34m\u001b[0m\u001b[0;34m\u001b[0m\u001b[0m\n\u001b[1;32m    756\u001b[0m \u001b[0;34m\u001b[0m\u001b[0m\n\u001b[0;32m--> 757\u001b[0;31m         \u001b[0;32mreturn\u001b[0m \u001b[0mself\u001b[0m\u001b[0;34m.\u001b[0m\u001b[0mconfig\u001b[0m\u001b[0;34m.\u001b[0m\u001b[0mbackend\u001b[0m\u001b[0;34m.\u001b[0m\u001b[0mbuild\u001b[0m\u001b[0;34m(\u001b[0m\u001b[0mself\u001b[0m\u001b[0;34m,\u001b[0m \u001b[0;34m**\u001b[0m\u001b[0mkwargs\u001b[0m\u001b[0;34m)\u001b[0m\u001b[0;34m\u001b[0m\u001b[0;34m\u001b[0m\u001b[0m\n\u001b[0m",
      "\u001b[0;32m~/work/hls4ml/hls4ml/backends/quartus/quartus_backend.py\u001b[0m in \u001b[0;36mbuild\u001b[0;34m(self, model, synth, fpgasynth)\u001b[0m\n\u001b[1;32m    132\u001b[0m         \u001b[0mfound\u001b[0m \u001b[0;34m=\u001b[0m \u001b[0mos\u001b[0m\u001b[0;34m.\u001b[0m\u001b[0msystem\u001b[0m\u001b[0;34m(\u001b[0m\u001b[0;34m'command -v i++ > /dev/null'\u001b[0m\u001b[0;34m)\u001b[0m\u001b[0;34m\u001b[0m\u001b[0;34m\u001b[0m\u001b[0m\n\u001b[1;32m    133\u001b[0m         \u001b[0;32mif\u001b[0m \u001b[0mfound\u001b[0m \u001b[0;34m!=\u001b[0m \u001b[0;36m0\u001b[0m\u001b[0;34m:\u001b[0m\u001b[0;34m\u001b[0m\u001b[0;34m\u001b[0m\u001b[0m\n\u001b[0;32m--> 134\u001b[0;31m             \u001b[0;32mraise\u001b[0m \u001b[0mException\u001b[0m\u001b[0;34m(\u001b[0m\u001b[0;34m'Intel HLS installation not found. Make sure \"i++\" is on PATH.'\u001b[0m\u001b[0;34m)\u001b[0m\u001b[0;34m\u001b[0m\u001b[0;34m\u001b[0m\u001b[0m\n\u001b[0m\u001b[1;32m    135\u001b[0m \u001b[0;34m\u001b[0m\u001b[0m\n\u001b[1;32m    136\u001b[0m         \u001b[0;32mwith\u001b[0m \u001b[0mchdir\u001b[0m\u001b[0;34m(\u001b[0m\u001b[0mmodel\u001b[0m\u001b[0;34m.\u001b[0m\u001b[0mconfig\u001b[0m\u001b[0;34m.\u001b[0m\u001b[0mget_output_dir\u001b[0m\u001b[0;34m(\u001b[0m\u001b[0;34m)\u001b[0m\u001b[0;34m)\u001b[0m\u001b[0;34m:\u001b[0m\u001b[0;34m\u001b[0m\u001b[0;34m\u001b[0m\u001b[0m\n",
      "\u001b[0;31mException\u001b[0m: Intel HLS installation not found. Make sure \"i++\" is on PATH."
     ]
    }
   ],
   "source": [
    "hls_model.build()"
   ]
  },
  {
   "cell_type": "code",
   "execution_count": null,
   "id": "southwest-evidence",
   "metadata": {},
   "outputs": [],
   "source": [
    "np.savetxt(\"Y_hls.txt\", Y_hls, delimiter=\" \")"
   ]
  },
  {
   "cell_type": "code",
   "execution_count": null,
   "id": "parallel-words",
   "metadata": {},
   "outputs": [],
   "source": [
    "np.savetxt(\"X.txt\", X, delimiter=\" \")"
   ]
  },
  {
   "cell_type": "code",
   "execution_count": null,
   "id": "cheap-festival",
   "metadata": {},
   "outputs": [],
   "source": []
  }
 ],
 "metadata": {
  "kernelspec": {
   "display_name": "Python 3 (ipykernel)",
   "language": "python",
   "name": "python3"
  },
  "language_info": {
   "codemirror_mode": {
    "name": "ipython",
    "version": 3
   },
   "file_extension": ".py",
   "mimetype": "text/x-python",
   "name": "python",
   "nbconvert_exporter": "python",
   "pygments_lexer": "ipython3",
   "version": "3.9.7"
  }
 },
 "nbformat": 4,
 "nbformat_minor": 5
}
